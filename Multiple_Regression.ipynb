{
  "nbformat": 4,
  "nbformat_minor": 0,
  "metadata": {
    "colab": {
      "name": "Multiple Regression.ipynb",
      "provenance": [],
      "collapsed_sections": [],
      "authorship_tag": "ABX9TyOKtWulgox+UYjzPf4B26/H",
      "include_colab_link": true
    },
    "kernelspec": {
      "name": "python3",
      "display_name": "Python 3"
    },
    "language_info": {
      "name": "python"
    }
  },
  "cells": [
    {
      "cell_type": "markdown",
      "metadata": {
        "id": "view-in-github",
        "colab_type": "text"
      },
      "source": [
        "<a href=\"https://colab.research.google.com/github/SHAIMA-HAQUE/Multiple-Regression/blob/main/Multiple_Regression.ipynb\" target=\"_parent\"><img src=\"https://colab.research.google.com/assets/colab-badge.svg\" alt=\"Open In Colab\"/></a>"
      ]
    },
    {
      "cell_type": "markdown",
      "metadata": {
        "id": "aA0Y9UrkPG7u"
      },
      "source": [
        "# ***Import Libraries***"
      ]
    },
    {
      "cell_type": "code",
      "metadata": {
        "id": "_PjFAbmwOtC9"
      },
      "source": [
        "#import libraries\n",
        "import numpy as np\n",
        "import pandas as pd\n",
        "import matplotlib.pyplot as plt"
      ],
      "execution_count": null,
      "outputs": []
    },
    {
      "cell_type": "markdown",
      "metadata": {
        "id": "VB9u1t_vPdpv"
      },
      "source": [
        "# ***Import Dataset***"
      ]
    },
    {
      "cell_type": "code",
      "metadata": {
        "colab": {
          "base_uri": "https://localhost:8080/"
        },
        "id": "SKJ_f-unPqFr",
        "outputId": "1e404bec-d4b1-4abc-cbe8-7f381c9000f3"
      },
      "source": [
        "#import dataset\n",
        "dataset = pd.read_csv('CarPrice_Multiple Regression.csv')\n",
        "print(dataset)"
      ],
      "execution_count": null,
      "outputs": [
        {
          "output_type": "stream",
          "text": [
            "     wheelbase  carlength  carwidth  ...  peakrpm  highwaympg    price\n",
            "0         88.6      168.8      64.1  ...     5000          27  13495.0\n",
            "1         88.6      168.8      64.1  ...     5000          27  16500.0\n",
            "2         94.5      171.2      65.5  ...     5000          26  16500.0\n",
            "3         99.8      176.6      66.2  ...     5500          30  13950.0\n",
            "4         99.4      176.6      66.4  ...     5500          22  17450.0\n",
            "..         ...        ...       ...  ...      ...         ...      ...\n",
            "200      109.1      188.8      68.9  ...     5400          28  16845.0\n",
            "201      109.1      188.8      68.8  ...     5300          25  19045.0\n",
            "202      109.1      188.8      68.9  ...     5500          23  21485.0\n",
            "203      109.1      188.8      68.9  ...     4800          27  22470.0\n",
            "204      109.1      188.8      68.9  ...     5400          25  22625.0\n",
            "\n",
            "[205 rows x 11 columns]\n"
          ],
          "name": "stdout"
        }
      ]
    },
    {
      "cell_type": "code",
      "metadata": {
        "colab": {
          "base_uri": "https://localhost:8080/"
        },
        "id": "h81fZ7Bfc4TP",
        "outputId": "2cf64c7f-cf3f-4787-8bfb-e33c1b9a5c6c"
      },
      "source": [
        "X = dataset.iloc[:,:-1].values\n",
        "Y = dataset.iloc[:,-1].values\n",
        "\n",
        "print(X)\n",
        "print(Y)"
      ],
      "execution_count": null,
      "outputs": [
        {
          "output_type": "stream",
          "text": [
            "[[  88.6  168.8   64.1 ...  111.  5000.    27. ]\n",
            " [  88.6  168.8   64.1 ...  111.  5000.    27. ]\n",
            " [  94.5  171.2   65.5 ...  154.  5000.    26. ]\n",
            " ...\n",
            " [ 109.1  188.8   68.9 ...  134.  5500.    23. ]\n",
            " [ 109.1  188.8   68.9 ...  106.  4800.    27. ]\n",
            " [ 109.1  188.8   68.9 ...  114.  5400.    25. ]]\n",
            "[13495.    16500.    16500.    13950.    17450.    15250.    17710.\n",
            " 18920.    23875.    17859.167 16430.    16925.    20970.    21105.\n",
            " 24565.    30760.    41315.    36880.     5151.     6295.     6575.\n",
            "  5572.     6377.     7957.     6229.     6692.     7609.     8558.\n",
            "  8921.    12964.     6479.     6855.     5399.     6529.     7129.\n",
            "  7295.     7295.     7895.     9095.     8845.    10295.    12945.\n",
            " 10345.     6785.     8916.5    8916.5   11048.    32250.    35550.\n",
            " 36000.     5195.     6095.     6795.     6695.     7395.    10945.\n",
            " 11845.    13645.    15645.     8845.     8495.    10595.    10245.\n",
            " 10795.    11245.    18280.    18344.    25552.    28248.    28176.\n",
            " 31600.    34184.    35056.    40960.    45400.    16503.     5389.\n",
            "  6189.     6669.     7689.     9959.     8499.    12629.    14869.\n",
            " 14489.     6989.     8189.     9279.     9279.     5499.     7099.\n",
            "  6649.     6849.     7349.     7299.     7799.     7499.     7999.\n",
            "  8249.     8949.     9549.    13499.    14399.    13499.    17199.\n",
            " 19699.    18399.    11900.    13200.    12440.    13860.    15580.\n",
            " 16900.    16695.    17075.    16630.    17950.    18150.     5572.\n",
            "  7957.     6229.     6692.     7609.     8921.    12764.    22018.\n",
            " 32528.    34028.    37028.    31400.5    9295.     9895.    11850.\n",
            " 12170.    15040.    15510.    18150.    18620.     5118.     7053.\n",
            "  7603.     7126.     7775.     9960.     9233.    11259.     7463.\n",
            " 10198.     8013.    11694.     5348.     6338.     6488.     6918.\n",
            "  7898.     8778.     6938.     7198.     7898.     7788.     7738.\n",
            "  8358.     9258.     8058.     8238.     9298.     9538.     8449.\n",
            "  9639.     9989.    11199.    11549.    17669.     8948.    10698.\n",
            "  9988.    10898.    11248.    16558.    15998.    15690.    15750.\n",
            "  7775.     7975.     7995.     8195.     8495.     9495.     9995.\n",
            " 11595.     9980.    13295.    13845.    12290.    12940.    13415.\n",
            " 15985.    16515.    18420.    18950.    16845.    19045.    21485.\n",
            " 22470.    22625.   ]\n"
          ],
          "name": "stdout"
        }
      ]
    },
    {
      "cell_type": "markdown",
      "metadata": {
        "id": "624vWRVMdfVH"
      },
      "source": [
        "# ***Split Data***"
      ]
    },
    {
      "cell_type": "code",
      "metadata": {
        "colab": {
          "base_uri": "https://localhost:8080/"
        },
        "id": "u0eKw_zudh8j",
        "outputId": "62023889-8007-4a09-89a9-799c5c2db488"
      },
      "source": [
        "# Split Data\n",
        "from sklearn.model_selection import train_test_split\n",
        "X_train, X_test, Y_train, Y_test = train_test_split(X,Y, test_size=0.3)\n",
        "print(X_train.shape, X_test.shape)"
      ],
      "execution_count": null,
      "outputs": [
        {
          "output_type": "stream",
          "text": [
            "(143, 10) (62, 10)\n"
          ],
          "name": "stdout"
        }
      ]
    },
    {
      "cell_type": "markdown",
      "metadata": {
        "id": "w1MI8-kZstUU"
      },
      "source": [
        "# ***Fitting Simple Linear Regression***"
      ]
    },
    {
      "cell_type": "code",
      "metadata": {
        "colab": {
          "base_uri": "https://localhost:8080/"
        },
        "id": "4iz066AIds2g",
        "outputId": "b5122eb8-6c99-445b-ac13-497f898d2f56"
      },
      "source": [
        "#Fitting Simple Linear Regression\n",
        "from sklearn.linear_model import LinearRegression\n",
        "model = LinearRegression()\n",
        "model.fit(X_train, Y_train)"
      ],
      "execution_count": null,
      "outputs": [
        {
          "output_type": "execute_result",
          "data": {
            "text/plain": [
              "LinearRegression(copy_X=True, fit_intercept=True, n_jobs=None, normalize=False)"
            ]
          },
          "metadata": {
            "tags": []
          },
          "execution_count": 21
        }
      ]
    },
    {
      "cell_type": "markdown",
      "metadata": {
        "id": "EU0pjWY_s23V"
      },
      "source": [
        "# ***Predicting test results***"
      ]
    },
    {
      "cell_type": "code",
      "metadata": {
        "colab": {
          "base_uri": "https://localhost:8080/"
        },
        "id": "Ing94KhRd0xJ",
        "outputId": "de89605a-d526-47a5-87c2-bc1211e521e9"
      },
      "source": [
        "#Predicting the test results\n",
        "Y_pred = model.predict(X_test)\n",
        "print(Y_pred)\n",
        "print(Y_train)"
      ],
      "execution_count": null,
      "outputs": [
        {
          "output_type": "stream",
          "text": [
            "[ 9280.01566838  8921.67390934 17276.04244486 10983.27538998\n",
            " 22612.02855027  9395.74795534 10243.86313221 11040.21676715\n",
            " 27675.58072555  9964.67123442 11524.4123617   8042.88616944\n",
            " 17638.03736494 15810.12336759 12843.35285381  6074.73637014\n",
            "  6890.60557519  6652.7601026  16282.89845306  5399.38557295\n",
            "  8447.6510935  11188.1054454  12919.72968387 25792.8057691\n",
            "  6001.87421976 10386.85760264 22991.22389521 14840.0291912\n",
            " 29768.60229672 21655.25549249  2961.56428764  6959.46847074\n",
            " 17255.58410523 12648.17839802 22305.9211204  10258.13693037\n",
            " 11082.0850044   8849.85858588 18129.29447941 19477.13352014\n",
            " 17638.03736494  6421.86100386 12132.05138631  6177.35264531\n",
            "  7764.61612729 10343.89072483 25792.8057691  19227.98785866\n",
            " 17115.25971429 14557.82178898 33240.96070586  8921.67390934\n",
            " 17807.21013398  6205.93724346  9140.2795734  11002.76488872\n",
            " 24826.00378749 14380.84540827  5307.53933686 27975.1379257\n",
            "  6852.92587762  6152.83295454]\n",
            "[ 6855.     7099.     5389.     7053.     5572.     7299.    11048.\n",
            " 18150.    31600.     7788.    17859.167  5151.    36000.     6669.\n",
            " 10198.    12629.    15690.    10295.    11259.    18420.    12170.\n",
            " 16558.     7689.    15985.     8916.5    8499.    17199.     6295.\n",
            "  8921.     6189.     5195.     9279.    32250.     7603.     6849.\n",
            "  9549.    15250.     7799.    15645.     5118.     5572.    19699.\n",
            "  8845.    16515.     9495.     6377.    22018.     7349.     8916.5\n",
            "  6338.    10245.    25552.    35550.     7895.    22625.     6695.\n",
            " 10795.    13645.    18399.    16430.     9258.     6785.    24565.\n",
            " 12945.     7295.    11900.    10698.     7775.    41315.     6938.\n",
            " 16925.     8558.    17669.     9538.     9988.    10595.     8449.\n",
            "  9980.    13415.    11845.     6095.     5399.    18950.    19045.\n",
            " 37028.     9095.     8948.    13295.    13495.    18150.     7738.\n",
            "  8358.    12440.    13200.     6529.     9995.    18920.    20970.\n",
            "  8195.    11248.    15510.     8921.    16503.    14869.    16500.\n",
            " 34184.    11850.    15750.    12964.    17075.     6229.    21485.\n",
            "  7898.    45400.     6989.     6692.     7609.     8058.    11199.\n",
            " 12290.    16630.     7898.     7995.     7775.    28176.     7395.\n",
            "  9989.    13860.     9959.     9279.    40960.     8013.     7609.\n",
            " 18620.    21105.    10945.     8249.    15040.     8845.     6795.\n",
            " 11694.     9639.     9895.   ]\n"
          ],
          "name": "stdout"
        }
      ]
    },
    {
      "cell_type": "markdown",
      "metadata": {
        "id": "Lw75mBZotA4F"
      },
      "source": [
        "# ***Calculate Accuracy***"
      ]
    },
    {
      "cell_type": "code",
      "metadata": {
        "colab": {
          "base_uri": "https://localhost:8080/"
        },
        "id": "IeiXlx7jd5Sl",
        "outputId": "d0a79a7c-fa37-4d8d-b829-cd8e16f84e6e"
      },
      "source": [
        "#Calculate Accuracy\n",
        "accuracy = model.score(X_test,Y_test)\n",
        "print(accuracy)"
      ],
      "execution_count": null,
      "outputs": [
        {
          "output_type": "stream",
          "text": [
            "0.808744512948474\n"
          ],
          "name": "stdout"
        }
      ]
    },
    {
      "cell_type": "markdown",
      "metadata": {
        "id": "SGfpmooOtVAs"
      },
      "source": [
        "# ***Predict on External data***"
      ]
    },
    {
      "cell_type": "code",
      "metadata": {
        "colab": {
          "base_uri": "https://localhost:8080/"
        },
        "id": "y2RL4RUAf4iN",
        "outputId": "c4ab3c19-6805-4049-b904-cc539a36e688"
      },
      "source": [
        "test_data = np.array([[99.6,177.3,65.5,55.9,2548,135,9,160,5500,25]])\n",
        "test_pred = model.predict(test_data)\n",
        "print(test_pred)"
      ],
      "execution_count": null,
      "outputs": [
        {
          "output_type": "stream",
          "text": [
            "[17956.77068108]\n"
          ],
          "name": "stdout"
        }
      ]
    }
  ]
}